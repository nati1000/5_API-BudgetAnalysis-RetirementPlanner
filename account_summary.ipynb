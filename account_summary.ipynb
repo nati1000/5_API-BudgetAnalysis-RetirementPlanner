{
 "cells": [
  {
   "cell_type": "markdown",
   "metadata": {},
   "source": [
    "# Budget Analysis\n",
    "\n",
    "---\n",
    "\n",
    "## Environment Setup"
   ]
  },
  {
   "cell_type": "code",
   "execution_count": 1,
   "metadata": {},
   "outputs": [],
   "source": [
    "# Initial Imports\n",
    "import os\n",
    "import plaid\n",
    "import requests\n",
    "import datetime\n",
    "import json\n",
    "import pandas as pd\n",
    "from dotenv import load_dotenv\n",
    "\n",
    "%matplotlib inline"
   ]
  },
  {
   "cell_type": "code",
   "execution_count": 2,
   "metadata": {},
   "outputs": [],
   "source": [
    "# Helper functions\n",
    "\n",
    "def pretty_print_response(response):\n",
    "    \"\"\"\n",
    "    This function formats a JSON file to pretty printing it in the screen.\n",
    "    \"\"\"\n",
    "    print(json.dumps(response, indent=4, sort_keys=True))"
   ]
  },
  {
   "cell_type": "code",
   "execution_count": 3,
   "metadata": {},
   "outputs": [
    {
     "data": {
      "text/plain": [
       "True"
      ]
     },
     "execution_count": 3,
     "metadata": {},
     "output_type": "execute_result"
    }
   ],
   "source": [
    "# Set environment variables from the .env file\n",
    "load_dotenv()"
   ]
  },
  {
   "cell_type": "code",
   "execution_count": 4,
   "metadata": {},
   "outputs": [],
   "source": [
    "# Extract API keys from environment variables\n",
    "PLAID_CLIENT_ID = os.getenv(\"PLAID_CLIENT_ID\")\n",
    "PLAID_SECRET = os.getenv(\"PLAID_SECRET\")\n",
    "PLAID_PUBLIC_KEY = os.getenv(\"PLAID_PUBLIC_KEY\")"
   ]
  },
  {
   "cell_type": "markdown",
   "metadata": {},
   "source": [
    "---\n",
    "\n",
    "## Plaid Access Token\n",
    "\n",
    "In this section, you will use the `plaid-python` API to generate the correct authentication tokens to access data in the free developer Sandbox. This mimics how you might connect to your own account or a customer account, but due to privacy issues, this homework will only require connecting to and analyzing the fake data from the developer sandbox that Plaid provides. \n",
    "\n",
    "Complete the following steps to generate an access token:\n",
    "\n",
    "1. Create a client to connect to plaid\n",
    "\n",
    "2. Use the client to generate a public token and request the following items: ['transactions', 'income', 'assets']\n",
    "\n",
    "3. Exchange the public token for an access token\n",
    "\n",
    "4. Test the access token by requesting and printing the available test accounts"
   ]
  },
  {
   "cell_type": "markdown",
   "metadata": {},
   "source": [
    "### 1. Create a client to connect to plaid"
   ]
  },
  {
   "cell_type": "code",
   "execution_count": 5,
   "metadata": {},
   "outputs": [],
   "source": [
    "# Create the client object\n",
    "client = plaid.Client(client_id=PLAID_CLIENT_ID, secret=PLAID_SECRET, public_key=PLAID_PUBLIC_KEY, environment='sandbox')\n"
   ]
  },
  {
   "cell_type": "code",
   "execution_count": 6,
   "metadata": {},
   "outputs": [],
   "source": [
    "# Set the institution id\n",
    "INSTITUTION_ID =\"ins_109508\""
   ]
  },
  {
   "cell_type": "markdown",
   "metadata": {},
   "source": [
    "### 2. Generate a public token"
   ]
  },
  {
   "cell_type": "code",
   "execution_count": 7,
   "metadata": {},
   "outputs": [
    {
     "data": {
      "text/plain": [
       "{'public_token': 'public-sandbox-aa0fe364-56fe-41a4-b772-7399d911f461',\n",
       " 'request_id': 'Pw4p5HRcVzELSn3'}"
      ]
     },
     "execution_count": 7,
     "metadata": {},
     "output_type": "execute_result"
    }
   ],
   "source": [
    "# Create the public token\n",
    "create_tkn_response = client.Sandbox.public_token.create(INSTITUTION_ID, ['transactions', 'income', 'assets'])\n",
    "\n",
    "# Print the public token\n",
    "create_tkn_response"
   ]
  },
  {
   "cell_type": "markdown",
   "metadata": {},
   "source": [
    "### 3. Exchange the public token for an access token"
   ]
  },
  {
   "cell_type": "code",
   "execution_count": 8,
   "metadata": {},
   "outputs": [
    {
     "data": {
      "text/plain": [
       "{'access_token': 'access-sandbox-bb2bdc59-e0d0-49ac-a4ac-513a3a3900e3',\n",
       " 'item_id': 'QoQalMENwBIBGlw8A8qNSbvx7r3zJJcpEr81M',\n",
       " 'request_id': '2T4N13k9mQskygS'}"
      ]
     },
     "execution_count": 8,
     "metadata": {},
     "output_type": "execute_result"
    }
   ],
   "source": [
    "# Retrieve the access token\n",
    "exchange_response = client.Item.public_token.exchange(create_tkn_response['public_token'])\n",
    "\n",
    "# Print the access token\n",
    "exchange_response"
   ]
  },
  {
   "cell_type": "code",
   "execution_count": 9,
   "metadata": {},
   "outputs": [],
   "source": [
    "# Store the access token in a Python variable\n",
    "access_token = exchange_response['access_token']"
   ]
  },
  {
   "cell_type": "markdown",
   "metadata": {},
   "source": [
    "### 4. Fetch Accounts"
   ]
  },
  {
   "cell_type": "code",
   "execution_count": 10,
   "metadata": {},
   "outputs": [
    {
     "data": {
      "text/plain": [
       "<plaid.api.accounts.Accounts at 0x2bc15ad6848>"
      ]
     },
     "execution_count": 10,
     "metadata": {},
     "output_type": "execute_result"
    }
   ],
   "source": [
    "# Retrieve accounts\n",
    "client.Accounts.get(access_token)\n",
    "\n",
    "# Print accounts\n",
    "client.Accounts"
   ]
  },
  {
   "cell_type": "markdown",
   "metadata": {},
   "source": [
    "---\n",
    "\n",
    "# Account Transactions with Plaid\n",
    "\n",
    "In this section, you will use the Plaid Python SDK to connect to the Developer Sandbox account and grab a list of transactions. You will need to complete the following steps:\n",
    "\n",
    "\n",
    "1. Use the access token to fetch the transactions for the last 90 days\n",
    "\n",
    "2. Print the categories for each transaction type\n",
    "\n",
    "3. Create a new DataFrame using the following fields from the JSON transaction data: `date, name, amount, category`. (For categories with more than one label, just use the first category label in the list)\n",
    "\n",
    "4. Convert the data types to the appropriate types (i.e. datetimeindex for the date and float for the amount)"
   ]
  },
  {
   "cell_type": "markdown",
   "metadata": {},
   "source": [
    "### 1. Fetch the Transactions for the last 90 days"
   ]
  },
  {
   "cell_type": "code",
   "execution_count": 11,
   "metadata": {
    "scrolled": true
   },
   "outputs": [
    {
     "data": {
      "text/plain": [
       "[{'account_id': 'BxNgJZ48EPf9Qw3ByBzlCwDEBQNwWwTw8RLd4',\n",
       "  'account_owner': None,\n",
       "  'amount': 500,\n",
       "  'authorized_date': None,\n",
       "  'category': ['Travel', 'Airlines and Aviation Services'],\n",
       "  'category_id': '22001000',\n",
       "  'date': '2020-07-29',\n",
       "  'iso_currency_code': 'USD',\n",
       "  'location': {'address': None,\n",
       "   'city': None,\n",
       "   'country': None,\n",
       "   'lat': None,\n",
       "   'lon': None,\n",
       "   'postal_code': None,\n",
       "   'region': None,\n",
       "   'store_number': None},\n",
       "  'merchant_name': 'United Airlines',\n",
       "  'name': 'United Airlines',\n",
       "  'payment_channel': 'in store',\n",
       "  'payment_meta': {'by_order_of': None,\n",
       "   'payee': None,\n",
       "   'payer': None,\n",
       "   'payment_method': None,\n",
       "   'payment_processor': None,\n",
       "   'ppd_id': None,\n",
       "   'reason': None,\n",
       "   'reference_number': None},\n",
       "  'pending': False,\n",
       "  'pending_transaction_id': None,\n",
       "  'transaction_code': None,\n",
       "  'transaction_id': '3gVDMbya41F5ZjvB4BdyfdzXroNMW7fqDLb4D',\n",
       "  'transaction_type': 'special',\n",
       "  'unofficial_currency_code': None},\n",
       " {'account_id': 'KQwrJd1BvkirnWJEyEjPtWMkyXDWnWcVA7meg',\n",
       "  'account_owner': None,\n",
       "  'amount': 6.33,\n",
       "  'authorized_date': None,\n",
       "  'category': ['Travel', 'Taxi'],\n",
       "  'category_id': '22016000',\n",
       "  'date': '2020-07-27',\n",
       "  'iso_currency_code': 'USD',\n",
       "  'location': {'address': None,\n",
       "   'city': None,\n",
       "   'country': None,\n",
       "   'lat': None,\n",
       "   'lon': None,\n",
       "   'postal_code': None,\n",
       "   'region': None,\n",
       "   'store_number': None},\n",
       "  'merchant_name': 'Uber',\n",
       "  'name': 'Uber 072515 SF**POOL**',\n",
       "  'payment_channel': 'in store',\n",
       "  'payment_meta': {'by_order_of': None,\n",
       "   'payee': None,\n",
       "   'payer': None,\n",
       "   'payment_method': None,\n",
       "   'payment_processor': None,\n",
       "   'ppd_id': None,\n",
       "   'reason': None,\n",
       "   'reference_number': None},\n",
       "  'pending': False,\n",
       "  'pending_transaction_id': None,\n",
       "  'transaction_code': None,\n",
       "  'transaction_id': '5Ez1kbvNPpiB1gxpPp7aSmNn6blL3RHZ1EykM',\n",
       "  'transaction_type': 'special',\n",
       "  'unofficial_currency_code': None},\n",
       " {'account_id': 'BxNgJZ48EPf9Qw3ByBzlCwDEBQNwWwTw8RLd4',\n",
       "  'account_owner': None,\n",
       "  'amount': 500,\n",
       "  'authorized_date': None,\n",
       "  'category': ['Food and Drink', 'Restaurants'],\n",
       "  'category_id': '13005000',\n",
       "  'date': '2020-07-24',\n",
       "  'iso_currency_code': 'USD',\n",
       "  'location': {'address': None,\n",
       "   'city': None,\n",
       "   'country': None,\n",
       "   'lat': None,\n",
       "   'lon': None,\n",
       "   'postal_code': None,\n",
       "   'region': None,\n",
       "   'store_number': None},\n",
       "  'merchant_name': 'Tectra Inc',\n",
       "  'name': 'Tectra Inc',\n",
       "  'payment_channel': 'in store',\n",
       "  'payment_meta': {'by_order_of': None,\n",
       "   'payee': None,\n",
       "   'payer': None,\n",
       "   'payment_method': None,\n",
       "   'payment_processor': None,\n",
       "   'ppd_id': None,\n",
       "   'reason': None,\n",
       "   'reference_number': None},\n",
       "  'pending': False,\n",
       "  'pending_transaction_id': None,\n",
       "  'transaction_code': None,\n",
       "  'transaction_id': 'xVLZvqAo1lubQy1wLwV3CQJ9LErVlAFn3ZPrE',\n",
       "  'transaction_type': 'place',\n",
       "  'unofficial_currency_code': None},\n",
       " {'account_id': 'BxNgJZ48EPf9Qw3ByBzlCwDEBQNwWwTw8RLd4',\n",
       "  'account_owner': None,\n",
       "  'amount': 2078.5,\n",
       "  'authorized_date': None,\n",
       "  'category': ['Payment'],\n",
       "  'category_id': '16000000',\n",
       "  'date': '2020-07-23',\n",
       "  'iso_currency_code': 'USD',\n",
       "  'location': {'address': None,\n",
       "   'city': None,\n",
       "   'country': None,\n",
       "   'lat': None,\n",
       "   'lon': None,\n",
       "   'postal_code': None,\n",
       "   'region': None,\n",
       "   'store_number': None},\n",
       "  'merchant_name': None,\n",
       "  'name': 'AUTOMATIC PAYMENT - THANK',\n",
       "  'payment_channel': 'other',\n",
       "  'payment_meta': {'by_order_of': None,\n",
       "   'payee': None,\n",
       "   'payer': None,\n",
       "   'payment_method': None,\n",
       "   'payment_processor': None,\n",
       "   'ppd_id': None,\n",
       "   'reason': None,\n",
       "   'reference_number': None},\n",
       "  'pending': False,\n",
       "  'pending_transaction_id': None,\n",
       "  'transaction_code': None,\n",
       "  'transaction_id': '48wg1b94NLc1J9wjNjpMCnBZQ8L1jqCdQKVGo',\n",
       "  'transaction_type': 'special',\n",
       "  'unofficial_currency_code': None},\n",
       " {'account_id': 'BxNgJZ48EPf9Qw3ByBzlCwDEBQNwWwTw8RLd4',\n",
       "  'account_owner': None,\n",
       "  'amount': 500,\n",
       "  'authorized_date': None,\n",
       "  'category': ['Food and Drink', 'Restaurants', 'Fast Food'],\n",
       "  'category_id': '13005032',\n",
       "  'date': '2020-07-23',\n",
       "  'iso_currency_code': 'USD',\n",
       "  'location': {'address': None,\n",
       "   'city': None,\n",
       "   'country': None,\n",
       "   'lat': None,\n",
       "   'lon': None,\n",
       "   'postal_code': None,\n",
       "   'region': None,\n",
       "   'store_number': None},\n",
       "  'merchant_name': 'KFC',\n",
       "  'name': 'KFC',\n",
       "  'payment_channel': 'in store',\n",
       "  'payment_meta': {'by_order_of': None,\n",
       "   'payee': None,\n",
       "   'payer': None,\n",
       "   'payment_method': None,\n",
       "   'payment_processor': None,\n",
       "   'ppd_id': None,\n",
       "   'reason': None,\n",
       "   'reference_number': None},\n",
       "  'pending': False,\n",
       "  'pending_transaction_id': None,\n",
       "  'transaction_code': None,\n",
       "  'transaction_id': 'aVJLQXzAvpuxa49mzmAyFb1e7vwnLVC7BvJyq',\n",
       "  'transaction_type': 'place',\n",
       "  'unofficial_currency_code': None},\n",
       " {'account_id': 'BxNgJZ48EPf9Qw3ByBzlCwDEBQNwWwTw8RLd4',\n",
       "  'account_owner': None,\n",
       "  'amount': 500,\n",
       "  'authorized_date': None,\n",
       "  'category': ['Shops', 'Sporting Goods'],\n",
       "  'category_id': '19046000',\n",
       "  'date': '2020-07-23',\n",
       "  'iso_currency_code': 'USD',\n",
       "  'location': {'address': None,\n",
       "   'city': None,\n",
       "   'country': None,\n",
       "   'lat': None,\n",
       "   'lon': None,\n",
       "   'postal_code': None,\n",
       "   'region': None,\n",
       "   'store_number': None},\n",
       "  'merchant_name': 'Madison Bicycle Shop',\n",
       "  'name': 'Madison Bicycle Shop',\n",
       "  'payment_channel': 'in store',\n",
       "  'payment_meta': {'by_order_of': None,\n",
       "   'payee': None,\n",
       "   'payer': None,\n",
       "   'payment_method': None,\n",
       "   'payment_processor': None,\n",
       "   'ppd_id': None,\n",
       "   'reason': None,\n",
       "   'reference_number': None},\n",
       "  'pending': False,\n",
       "  'pending_transaction_id': None,\n",
       "  'transaction_code': None,\n",
       "  'transaction_id': 'dVeA1XxKvEu4pe3jxjoDfaD8W6JnKXCZjqzVW',\n",
       "  'transaction_type': 'place',\n",
       "  'unofficial_currency_code': None},\n",
       " {'account_id': 'rVX4vDpQkEu8qmvedeElSqazbBEqDqUl6WDjy',\n",
       "  'account_owner': None,\n",
       "  'amount': 25,\n",
       "  'authorized_date': None,\n",
       "  'category': ['Payment', 'Credit Card'],\n",
       "  'category_id': '16001000',\n",
       "  'date': '2020-07-14',\n",
       "  'iso_currency_code': 'USD',\n",
       "  'location': {'address': None,\n",
       "   'city': None,\n",
       "   'country': None,\n",
       "   'lat': None,\n",
       "   'lon': None,\n",
       "   'postal_code': None,\n",
       "   'region': None,\n",
       "   'store_number': None},\n",
       "  'merchant_name': None,\n",
       "  'name': 'CREDIT CARD 3333 PAYMENT *//',\n",
       "  'payment_channel': 'other',\n",
       "  'payment_meta': {'by_order_of': None,\n",
       "   'payee': None,\n",
       "   'payer': None,\n",
       "   'payment_method': None,\n",
       "   'payment_processor': None,\n",
       "   'ppd_id': None,\n",
       "   'reason': None,\n",
       "   'reference_number': None},\n",
       "  'pending': False,\n",
       "  'pending_transaction_id': None,\n",
       "  'transaction_code': None,\n",
       "  'transaction_id': 'rVX4vDpQkEu8qmvedeElSqaKrlN64muleX989',\n",
       "  'transaction_type': 'special',\n",
       "  'unofficial_currency_code': None},\n",
       " {'account_id': 'KQwrJd1BvkirnWJEyEjPtWMkyXDWnWcVA7meg',\n",
       "  'account_owner': None,\n",
       "  'amount': 5.4,\n",
       "  'authorized_date': None,\n",
       "  'category': ['Travel', 'Taxi'],\n",
       "  'category_id': '22016000',\n",
       "  'date': '2020-07-14',\n",
       "  'iso_currency_code': 'USD',\n",
       "  'location': {'address': None,\n",
       "   'city': None,\n",
       "   'country': None,\n",
       "   'lat': None,\n",
       "   'lon': None,\n",
       "   'postal_code': None,\n",
       "   'region': None,\n",
       "   'store_number': None},\n",
       "  'merchant_name': 'Uber',\n",
       "  'name': 'Uber 063015 SF**POOL**',\n",
       "  'payment_channel': 'in store',\n",
       "  'payment_meta': {'by_order_of': None,\n",
       "   'payee': None,\n",
       "   'payer': None,\n",
       "   'payment_method': None,\n",
       "   'payment_processor': None,\n",
       "   'ppd_id': None,\n",
       "   'reason': None,\n",
       "   'reference_number': None},\n",
       "  'pending': False,\n",
       "  'pending_transaction_id': None,\n",
       "  'transaction_code': None,\n",
       "  'transaction_id': 'JedKJxMzvLF7RBXq9qPVCBMnlkbWvdfdDGMzg',\n",
       "  'transaction_type': 'special',\n",
       "  'unofficial_currency_code': None},\n",
       " {'account_id': '3gVDMbya41F5ZjvB4BdyfdzV3Rwdydtqnv8km',\n",
       "  'account_owner': None,\n",
       "  'amount': 5850,\n",
       "  'authorized_date': None,\n",
       "  'category': ['Transfer', 'Debit'],\n",
       "  'category_id': '21006000',\n",
       "  'date': '2020-07-13',\n",
       "  'iso_currency_code': 'USD',\n",
       "  'location': {'address': None,\n",
       "   'city': None,\n",
       "   'country': None,\n",
       "   'lat': None,\n",
       "   'lon': None,\n",
       "   'postal_code': None,\n",
       "   'region': None,\n",
       "   'store_number': None},\n",
       "  'merchant_name': None,\n",
       "  'name': 'ACH Electronic CreditGUSTO PAY 123456',\n",
       "  'payment_channel': 'other',\n",
       "  'payment_meta': {'by_order_of': None,\n",
       "   'payee': None,\n",
       "   'payer': None,\n",
       "   'payment_method': 'ACH',\n",
       "   'payment_processor': None,\n",
       "   'ppd_id': None,\n",
       "   'reason': None,\n",
       "   'reference_number': None},\n",
       "  'pending': False,\n",
       "  'pending_transaction_id': None,\n",
       "  'transaction_code': None,\n",
       "  'transaction_id': 'PpRdJW84vzc6rVqvMvlNCVRA1WQqzaF7Pn5qk',\n",
       "  'transaction_type': 'special',\n",
       "  'unofficial_currency_code': None},\n",
       " {'account_id': 'zqBEvrk8pKFBoL3qxqbRSoajeDAoyouoLZgRo',\n",
       "  'account_owner': None,\n",
       "  'amount': 1000,\n",
       "  'authorized_date': None,\n",
       "  'category': ['Transfer', 'Deposit'],\n",
       "  'category_id': '21007000',\n",
       "  'date': '2020-07-13',\n",
       "  'iso_currency_code': 'USD',\n",
       "  'location': {'address': None,\n",
       "   'city': None,\n",
       "   'country': None,\n",
       "   'lat': None,\n",
       "   'lon': None,\n",
       "   'postal_code': None,\n",
       "   'region': None,\n",
       "   'store_number': None},\n",
       "  'merchant_name': None,\n",
       "  'name': 'CD DEPOSIT .INITIAL.',\n",
       "  'payment_channel': 'other',\n",
       "  'payment_meta': {'by_order_of': None,\n",
       "   'payee': None,\n",
       "   'payer': None,\n",
       "   'payment_method': None,\n",
       "   'payment_processor': None,\n",
       "   'ppd_id': None,\n",
       "   'reason': None,\n",
       "   'reference_number': None},\n",
       "  'pending': False,\n",
       "  'pending_transaction_id': None,\n",
       "  'transaction_code': None,\n",
       "  'transaction_id': 'BxNgJZ48EPf9Qw3ByBzlCwD7y4ZKzqHwb15mo',\n",
       "  'transaction_type': 'special',\n",
       "  'unofficial_currency_code': None},\n",
       " {'account_id': 'BxNgJZ48EPf9Qw3ByBzlCwDEBQNwWwTw8RLd4',\n",
       "  'account_owner': None,\n",
       "  'amount': 78.5,\n",
       "  'authorized_date': None,\n",
       "  'category': ['Recreation', 'Gyms and Fitness Centers'],\n",
       "  'category_id': '17018000',\n",
       "  'date': '2020-07-12',\n",
       "  'iso_currency_code': 'USD',\n",
       "  'location': {'address': None,\n",
       "   'city': None,\n",
       "   'country': None,\n",
       "   'lat': None,\n",
       "   'lon': None,\n",
       "   'postal_code': None,\n",
       "   'region': None,\n",
       "   'store_number': None},\n",
       "  'merchant_name': 'Touchstone',\n",
       "  'name': 'Touchstone Climbing',\n",
       "  'payment_channel': 'in store',\n",
       "  'payment_meta': {'by_order_of': None,\n",
       "   'payee': None,\n",
       "   'payer': None,\n",
       "   'payment_method': None,\n",
       "   'payment_processor': None,\n",
       "   'ppd_id': None,\n",
       "   'reason': None,\n",
       "   'reference_number': None},\n",
       "  'pending': False,\n",
       "  'pending_transaction_id': None,\n",
       "  'transaction_code': None,\n",
       "  'transaction_id': 'N1V3JNodvKc9g6AZPZWNC6E8eLRKraCW4zpRG',\n",
       "  'transaction_type': 'place',\n",
       "  'unofficial_currency_code': None},\n",
       " {'account_id': 'KQwrJd1BvkirnWJEyEjPtWMkyXDWnWcVA7meg',\n",
       "  'account_owner': None,\n",
       "  'amount': -500,\n",
       "  'authorized_date': None,\n",
       "  'category': ['Travel', 'Airlines and Aviation Services'],\n",
       "  'category_id': '22001000',\n",
       "  'date': '2020-07-12',\n",
       "  'iso_currency_code': 'USD',\n",
       "  'location': {'address': None,\n",
       "   'city': None,\n",
       "   'country': None,\n",
       "   'lat': None,\n",
       "   'lon': None,\n",
       "   'postal_code': None,\n",
       "   'region': None,\n",
       "   'store_number': None},\n",
       "  'merchant_name': 'United Airlines',\n",
       "  'name': 'United Airlines',\n",
       "  'payment_channel': 'other',\n",
       "  'payment_meta': {'by_order_of': None,\n",
       "   'payee': None,\n",
       "   'payer': None,\n",
       "   'payment_method': None,\n",
       "   'payment_processor': None,\n",
       "   'ppd_id': None,\n",
       "   'reason': None,\n",
       "   'reference_number': None},\n",
       "  'pending': False,\n",
       "  'pending_transaction_id': None,\n",
       "  'transaction_code': None,\n",
       "  'transaction_id': 'k5XrvD7a3EfVbpzgqgErIbyXD7o8nBCWl3DMp',\n",
       "  'transaction_type': 'special',\n",
       "  'unofficial_currency_code': None},\n",
       " {'account_id': 'KQwrJd1BvkirnWJEyEjPtWMkyXDWnWcVA7meg',\n",
       "  'account_owner': None,\n",
       "  'amount': 12,\n",
       "  'authorized_date': None,\n",
       "  'category': ['Food and Drink', 'Restaurants', 'Fast Food'],\n",
       "  'category_id': '13005032',\n",
       "  'date': '2020-07-11',\n",
       "  'iso_currency_code': 'USD',\n",
       "  'location': {'address': None,\n",
       "   'city': None,\n",
       "   'country': None,\n",
       "   'lat': None,\n",
       "   'lon': None,\n",
       "   'postal_code': None,\n",
       "   'region': None,\n",
       "   'store_number': '3322'},\n",
       "  'merchant_name': \"McDonald's\",\n",
       "  'name': \"McDonald's\",\n",
       "  'payment_channel': 'in store',\n",
       "  'payment_meta': {'by_order_of': None,\n",
       "   'payee': None,\n",
       "   'payer': None,\n",
       "   'payment_method': None,\n",
       "   'payment_processor': None,\n",
       "   'ppd_id': None,\n",
       "   'reason': None,\n",
       "   'reference_number': None},\n",
       "  'pending': False,\n",
       "  'pending_transaction_id': None,\n",
       "  'transaction_code': None,\n",
       "  'transaction_id': 'lVgz6De4xEuM57oBKBEzFrEWgBKbQXiZV5gPR',\n",
       "  'transaction_type': 'place',\n",
       "  'unofficial_currency_code': None},\n",
       " {'account_id': 'KQwrJd1BvkirnWJEyEjPtWMkyXDWnWcVA7meg',\n",
       "  'account_owner': None,\n",
       "  'amount': 4.33,\n",
       "  'authorized_date': None,\n",
       "  'category': ['Food and Drink', 'Restaurants', 'Coffee Shop'],\n",
       "  'category_id': '13005043',\n",
       "  'date': '2020-07-11',\n",
       "  'iso_currency_code': 'USD',\n",
       "  'location': {'address': None,\n",
       "   'city': None,\n",
       "   'country': None,\n",
       "   'lat': None,\n",
       "   'lon': None,\n",
       "   'postal_code': None,\n",
       "   'region': None,\n",
       "   'store_number': None},\n",
       "  'merchant_name': 'Starbucks',\n",
       "  'name': 'Starbucks',\n",
       "  'payment_channel': 'in store',\n",
       "  'payment_meta': {'by_order_of': None,\n",
       "   'payee': None,\n",
       "   'payer': None,\n",
       "   'payment_method': None,\n",
       "   'payment_processor': None,\n",
       "   'ppd_id': None,\n",
       "   'reason': None,\n",
       "   'reference_number': None},\n",
       "  'pending': False,\n",
       "  'pending_transaction_id': None,\n",
       "  'transaction_code': None,\n",
       "  'transaction_id': 'qV5avDLePwugq6kZxZwQtqN9PjwA84udz5Ppy',\n",
       "  'transaction_type': 'place',\n",
       "  'unofficial_currency_code': None},\n",
       " {'account_id': 'KQwrJd1BvkirnWJEyEjPtWMkyXDWnWcVA7meg',\n",
       "  'account_owner': None,\n",
       "  'amount': 89.4,\n",
       "  'authorized_date': None,\n",
       "  'category': ['Food and Drink', 'Restaurants'],\n",
       "  'category_id': '13005000',\n",
       "  'date': '2020-07-10',\n",
       "  'iso_currency_code': 'USD',\n",
       "  'location': {'address': None,\n",
       "   'city': None,\n",
       "   'country': None,\n",
       "   'lat': None,\n",
       "   'lon': None,\n",
       "   'postal_code': None,\n",
       "   'region': None,\n",
       "   'store_number': None},\n",
       "  'merchant_name': 'Sparkfun',\n",
       "  'name': 'SparkFun',\n",
       "  'payment_channel': 'in store',\n",
       "  'payment_meta': {'by_order_of': None,\n",
       "   'payee': None,\n",
       "   'payer': None,\n",
       "   'payment_method': None,\n",
       "   'payment_processor': None,\n",
       "   'ppd_id': None,\n",
       "   'reason': None,\n",
       "   'reference_number': None},\n",
       "  'pending': False,\n",
       "  'pending_transaction_id': None,\n",
       "  'transaction_code': None,\n",
       "  'transaction_id': 'KQwrJd1BvkirnWJEyEjPtWMgpGwmRKSVxjkdo',\n",
       "  'transaction_type': 'place',\n",
       "  'unofficial_currency_code': None},\n",
       " {'account_id': 'rVX4vDpQkEu8qmvedeElSqazbBEqDqUl6WDjy',\n",
       "  'account_owner': None,\n",
       "  'amount': -4.22,\n",
       "  'authorized_date': None,\n",
       "  'category': ['Transfer', 'Credit'],\n",
       "  'category_id': '21005000',\n",
       "  'date': '2020-07-09',\n",
       "  'iso_currency_code': 'USD',\n",
       "  'location': {'address': None,\n",
       "   'city': None,\n",
       "   'country': None,\n",
       "   'lat': None,\n",
       "   'lon': None,\n",
       "   'postal_code': None,\n",
       "   'region': None,\n",
       "   'store_number': None},\n",
       "  'merchant_name': None,\n",
       "  'name': 'INTRST PYMNT',\n",
       "  'payment_channel': 'other',\n",
       "  'payment_meta': {'by_order_of': None,\n",
       "   'payee': None,\n",
       "   'payer': None,\n",
       "   'payment_method': None,\n",
       "   'payment_processor': None,\n",
       "   'ppd_id': None,\n",
       "   'reason': None,\n",
       "   'reference_number': None},\n",
       "  'pending': False,\n",
       "  'pending_transaction_id': None,\n",
       "  'transaction_code': None,\n",
       "  'transaction_id': 'zqBEvrk8pKFBoL3qxqbRSoa4Q83kvBIo5KBkN',\n",
       "  'transaction_type': 'special',\n",
       "  'unofficial_currency_code': None}]"
      ]
     },
     "execution_count": 11,
     "metadata": {},
     "output_type": "execute_result"
    }
   ],
   "source": [
    "# Set the start and end date 90 days from today\n",
    "start_date = '{:%Y-%m-%d}'.format(datetime.datetime.now() + datetime.timedelta(-90))\n",
    "end_date = '{:%Y-%m-%d}'.format(datetime.datetime.now()) \n",
    "\n",
    "# Retrieve the transactions for the last 90 days\n",
    "transactions_response = client.Transactions.get(access_token, start_date, end_date)\n",
    "\n",
    "# Print the transactions\n",
    "transactions_response['transactions']"
   ]
  },
  {
   "cell_type": "markdown",
   "metadata": {},
   "source": [
    "### 2. Print the categories for each transaction"
   ]
  },
  {
   "cell_type": "code",
   "execution_count": 12,
   "metadata": {},
   "outputs": [
    {
     "name": "stdout",
     "output_type": "stream",
     "text": [
      "['Travel', 'Airlines and Aviation Services']\n",
      "['Travel', 'Taxi']\n",
      "['Food and Drink', 'Restaurants']\n",
      "['Payment']\n",
      "['Food and Drink', 'Restaurants', 'Fast Food']\n",
      "['Shops', 'Sporting Goods']\n",
      "['Payment', 'Credit Card']\n",
      "['Travel', 'Taxi']\n",
      "['Transfer', 'Debit']\n",
      "['Transfer', 'Deposit']\n",
      "['Recreation', 'Gyms and Fitness Centers']\n",
      "['Travel', 'Airlines and Aviation Services']\n",
      "['Food and Drink', 'Restaurants', 'Fast Food']\n",
      "['Food and Drink', 'Restaurants', 'Coffee Shop']\n",
      "['Food and Drink', 'Restaurants']\n",
      "['Transfer', 'Credit']\n"
     ]
    }
   ],
   "source": [
    "# Create a for-loop to print the categories for each transaction\n",
    "for row in transactions_response['transactions']:\n",
    "    print(row['category'])\n",
    "   "
   ]
  },
  {
   "cell_type": "markdown",
   "metadata": {},
   "source": [
    "### 3. Create a new DataFrame using the following fields from the JSON transaction data: `date`, `name`, `amount`, `category`. \n",
    "\n",
    "(For categories with more than one label, just use the first category label in the list)"
   ]
  },
  {
   "cell_type": "code",
   "execution_count": 13,
   "metadata": {},
   "outputs": [
    {
     "data": {
      "text/html": [
       "<div>\n",
       "<style scoped>\n",
       "    .dataframe tbody tr th:only-of-type {\n",
       "        vertical-align: middle;\n",
       "    }\n",
       "\n",
       "    .dataframe tbody tr th {\n",
       "        vertical-align: top;\n",
       "    }\n",
       "\n",
       "    .dataframe thead th {\n",
       "        text-align: right;\n",
       "    }\n",
       "</style>\n",
       "<table border=\"1\" class=\"dataframe\">\n",
       "  <thead>\n",
       "    <tr style=\"text-align: right;\">\n",
       "      <th></th>\n",
       "      <th>date</th>\n",
       "      <th>name</th>\n",
       "      <th>amount</th>\n",
       "      <th>category</th>\n",
       "    </tr>\n",
       "  </thead>\n",
       "  <tbody>\n",
       "    <tr>\n",
       "      <th>0</th>\n",
       "      <td>2020-07-29</td>\n",
       "      <td>United Airlines</td>\n",
       "      <td>500</td>\n",
       "      <td>Travel</td>\n",
       "    </tr>\n",
       "    <tr>\n",
       "      <th>1</th>\n",
       "      <td>2020-07-27</td>\n",
       "      <td>Uber 072515 SF**POOL**</td>\n",
       "      <td>6.33</td>\n",
       "      <td>Travel</td>\n",
       "    </tr>\n",
       "    <tr>\n",
       "      <th>2</th>\n",
       "      <td>2020-07-24</td>\n",
       "      <td>Tectra Inc</td>\n",
       "      <td>500</td>\n",
       "      <td>Food and Drink</td>\n",
       "    </tr>\n",
       "    <tr>\n",
       "      <th>3</th>\n",
       "      <td>2020-07-23</td>\n",
       "      <td>AUTOMATIC PAYMENT - THANK</td>\n",
       "      <td>2078.5</td>\n",
       "      <td>Payment</td>\n",
       "    </tr>\n",
       "    <tr>\n",
       "      <th>4</th>\n",
       "      <td>2020-07-23</td>\n",
       "      <td>KFC</td>\n",
       "      <td>500</td>\n",
       "      <td>Food and Drink</td>\n",
       "    </tr>\n",
       "  </tbody>\n",
       "</table>\n",
       "</div>"
      ],
      "text/plain": [
       "         date                       name  amount        category\n",
       "0  2020-07-29            United Airlines     500          Travel\n",
       "1  2020-07-27     Uber 072515 SF**POOL**    6.33          Travel\n",
       "2  2020-07-24                 Tectra Inc     500  Food and Drink\n",
       "3  2020-07-23  AUTOMATIC PAYMENT - THANK  2078.5         Payment\n",
       "4  2020-07-23                        KFC     500  Food and Drink"
      ]
     },
     "execution_count": 13,
     "metadata": {},
     "output_type": "execute_result"
    }
   ],
   "source": [
    "# Define an empty DataFrame and set the columns as date, name, amount, and category\n",
    "df = pd.DataFrame(columns= ['date','name','amount', 'category'])\n",
    "\n",
    "# Retrieve all the transactions\n",
    "transactions = transactions_response['transactions']\n",
    "\n",
    "# Populate the transactions DataFrame with the transactions data\n",
    "for index, row in enumerate(transactions):\n",
    "    df.loc[index] = [row['date'], row['name'], row['amount'], row['category'][0]]\n",
    "    \n",
    "df.head()"
   ]
  },
  {
   "cell_type": "markdown",
   "metadata": {},
   "source": [
    "### 4. Convert the data types to the appropriate types \n",
    "\n",
    "(i.e. datetimeindex for the date and float for the amount)"
   ]
  },
  {
   "cell_type": "code",
   "execution_count": 14,
   "metadata": {},
   "outputs": [
    {
     "data": {
      "text/plain": [
       "date        object\n",
       "name        object\n",
       "amount      object\n",
       "category    object\n",
       "dtype: object"
      ]
     },
     "execution_count": 14,
     "metadata": {},
     "output_type": "execute_result"
    }
   ],
   "source": [
    "# Display data types\n",
    "df.dtypes"
   ]
  },
  {
   "cell_type": "code",
   "execution_count": 15,
   "metadata": {},
   "outputs": [
    {
     "data": {
      "text/html": [
       "<div>\n",
       "<style scoped>\n",
       "    .dataframe tbody tr th:only-of-type {\n",
       "        vertical-align: middle;\n",
       "    }\n",
       "\n",
       "    .dataframe tbody tr th {\n",
       "        vertical-align: top;\n",
       "    }\n",
       "\n",
       "    .dataframe thead th {\n",
       "        text-align: right;\n",
       "    }\n",
       "</style>\n",
       "<table border=\"1\" class=\"dataframe\">\n",
       "  <thead>\n",
       "    <tr style=\"text-align: right;\">\n",
       "      <th></th>\n",
       "      <th>date</th>\n",
       "      <th>name</th>\n",
       "      <th>amount</th>\n",
       "      <th>category</th>\n",
       "    </tr>\n",
       "  </thead>\n",
       "  <tbody>\n",
       "    <tr>\n",
       "      <th>0</th>\n",
       "      <td>2020-07-29</td>\n",
       "      <td>United Airlines</td>\n",
       "      <td>500</td>\n",
       "      <td>Travel</td>\n",
       "    </tr>\n",
       "    <tr>\n",
       "      <th>1</th>\n",
       "      <td>2020-07-27</td>\n",
       "      <td>Uber 072515 SF**POOL**</td>\n",
       "      <td>6.33</td>\n",
       "      <td>Travel</td>\n",
       "    </tr>\n",
       "    <tr>\n",
       "      <th>2</th>\n",
       "      <td>2020-07-24</td>\n",
       "      <td>Tectra Inc</td>\n",
       "      <td>500</td>\n",
       "      <td>Food and Drink</td>\n",
       "    </tr>\n",
       "    <tr>\n",
       "      <th>3</th>\n",
       "      <td>2020-07-23</td>\n",
       "      <td>AUTOMATIC PAYMENT - THANK</td>\n",
       "      <td>2078.5</td>\n",
       "      <td>Payment</td>\n",
       "    </tr>\n",
       "    <tr>\n",
       "      <th>4</th>\n",
       "      <td>2020-07-23</td>\n",
       "      <td>KFC</td>\n",
       "      <td>500</td>\n",
       "      <td>Food and Drink</td>\n",
       "    </tr>\n",
       "    <tr>\n",
       "      <th>5</th>\n",
       "      <td>2020-07-23</td>\n",
       "      <td>Madison Bicycle Shop</td>\n",
       "      <td>500</td>\n",
       "      <td>Shops</td>\n",
       "    </tr>\n",
       "    <tr>\n",
       "      <th>6</th>\n",
       "      <td>2020-07-14</td>\n",
       "      <td>CREDIT CARD 3333 PAYMENT *//</td>\n",
       "      <td>25</td>\n",
       "      <td>Payment</td>\n",
       "    </tr>\n",
       "    <tr>\n",
       "      <th>7</th>\n",
       "      <td>2020-07-14</td>\n",
       "      <td>Uber 063015 SF**POOL**</td>\n",
       "      <td>5.4</td>\n",
       "      <td>Travel</td>\n",
       "    </tr>\n",
       "    <tr>\n",
       "      <th>8</th>\n",
       "      <td>2020-07-13</td>\n",
       "      <td>ACH Electronic CreditGUSTO PAY 123456</td>\n",
       "      <td>5850</td>\n",
       "      <td>Transfer</td>\n",
       "    </tr>\n",
       "    <tr>\n",
       "      <th>9</th>\n",
       "      <td>2020-07-13</td>\n",
       "      <td>CD DEPOSIT .INITIAL.</td>\n",
       "      <td>1000</td>\n",
       "      <td>Transfer</td>\n",
       "    </tr>\n",
       "    <tr>\n",
       "      <th>10</th>\n",
       "      <td>2020-07-12</td>\n",
       "      <td>Touchstone Climbing</td>\n",
       "      <td>78.5</td>\n",
       "      <td>Recreation</td>\n",
       "    </tr>\n",
       "    <tr>\n",
       "      <th>11</th>\n",
       "      <td>2020-07-12</td>\n",
       "      <td>United Airlines</td>\n",
       "      <td>-500</td>\n",
       "      <td>Travel</td>\n",
       "    </tr>\n",
       "    <tr>\n",
       "      <th>12</th>\n",
       "      <td>2020-07-11</td>\n",
       "      <td>McDonald's</td>\n",
       "      <td>12</td>\n",
       "      <td>Food and Drink</td>\n",
       "    </tr>\n",
       "    <tr>\n",
       "      <th>13</th>\n",
       "      <td>2020-07-11</td>\n",
       "      <td>Starbucks</td>\n",
       "      <td>4.33</td>\n",
       "      <td>Food and Drink</td>\n",
       "    </tr>\n",
       "    <tr>\n",
       "      <th>14</th>\n",
       "      <td>2020-07-10</td>\n",
       "      <td>SparkFun</td>\n",
       "      <td>89.4</td>\n",
       "      <td>Food and Drink</td>\n",
       "    </tr>\n",
       "    <tr>\n",
       "      <th>15</th>\n",
       "      <td>2020-07-09</td>\n",
       "      <td>INTRST PYMNT</td>\n",
       "      <td>-4.22</td>\n",
       "      <td>Transfer</td>\n",
       "    </tr>\n",
       "  </tbody>\n",
       "</table>\n",
       "</div>"
      ],
      "text/plain": [
       "          date                                   name  amount        category\n",
       "0   2020-07-29                        United Airlines     500          Travel\n",
       "1   2020-07-27                 Uber 072515 SF**POOL**    6.33          Travel\n",
       "2   2020-07-24                             Tectra Inc     500  Food and Drink\n",
       "3   2020-07-23              AUTOMATIC PAYMENT - THANK  2078.5         Payment\n",
       "4   2020-07-23                                    KFC     500  Food and Drink\n",
       "5   2020-07-23                   Madison Bicycle Shop     500           Shops\n",
       "6   2020-07-14           CREDIT CARD 3333 PAYMENT *//      25         Payment\n",
       "7   2020-07-14                 Uber 063015 SF**POOL**     5.4          Travel\n",
       "8   2020-07-13  ACH Electronic CreditGUSTO PAY 123456    5850        Transfer\n",
       "9   2020-07-13                   CD DEPOSIT .INITIAL.    1000        Transfer\n",
       "10  2020-07-12                    Touchstone Climbing    78.5      Recreation\n",
       "11  2020-07-12                        United Airlines    -500          Travel\n",
       "12  2020-07-11                             McDonald's      12  Food and Drink\n",
       "13  2020-07-11                              Starbucks    4.33  Food and Drink\n",
       "14  2020-07-10                               SparkFun    89.4  Food and Drink\n",
       "15  2020-07-09                           INTRST PYMNT   -4.22        Transfer"
      ]
     },
     "execution_count": 15,
     "metadata": {},
     "output_type": "execute_result"
    }
   ],
   "source": [
    "df"
   ]
  },
  {
   "cell_type": "code",
   "execution_count": 16,
   "metadata": {},
   "outputs": [],
   "source": [
    "# Make any required data type transformation\n",
    "df['date'] = pd.to_datetime(df['date'], format=\"%Y-%m-%d\")"
   ]
  },
  {
   "cell_type": "code",
   "execution_count": 17,
   "metadata": {},
   "outputs": [
    {
     "data": {
      "text/html": [
       "<div>\n",
       "<style scoped>\n",
       "    .dataframe tbody tr th:only-of-type {\n",
       "        vertical-align: middle;\n",
       "    }\n",
       "\n",
       "    .dataframe tbody tr th {\n",
       "        vertical-align: top;\n",
       "    }\n",
       "\n",
       "    .dataframe thead th {\n",
       "        text-align: right;\n",
       "    }\n",
       "</style>\n",
       "<table border=\"1\" class=\"dataframe\">\n",
       "  <thead>\n",
       "    <tr style=\"text-align: right;\">\n",
       "      <th></th>\n",
       "      <th>name</th>\n",
       "      <th>amount</th>\n",
       "      <th>category</th>\n",
       "    </tr>\n",
       "    <tr>\n",
       "      <th>date</th>\n",
       "      <th></th>\n",
       "      <th></th>\n",
       "      <th></th>\n",
       "    </tr>\n",
       "  </thead>\n",
       "  <tbody>\n",
       "    <tr>\n",
       "      <th>2020-07-29</th>\n",
       "      <td>United Airlines</td>\n",
       "      <td>500</td>\n",
       "      <td>Travel</td>\n",
       "    </tr>\n",
       "    <tr>\n",
       "      <th>2020-07-27</th>\n",
       "      <td>Uber 072515 SF**POOL**</td>\n",
       "      <td>6.33</td>\n",
       "      <td>Travel</td>\n",
       "    </tr>\n",
       "    <tr>\n",
       "      <th>2020-07-24</th>\n",
       "      <td>Tectra Inc</td>\n",
       "      <td>500</td>\n",
       "      <td>Food and Drink</td>\n",
       "    </tr>\n",
       "    <tr>\n",
       "      <th>2020-07-23</th>\n",
       "      <td>AUTOMATIC PAYMENT - THANK</td>\n",
       "      <td>2078.5</td>\n",
       "      <td>Payment</td>\n",
       "    </tr>\n",
       "    <tr>\n",
       "      <th>2020-07-23</th>\n",
       "      <td>KFC</td>\n",
       "      <td>500</td>\n",
       "      <td>Food and Drink</td>\n",
       "    </tr>\n",
       "  </tbody>\n",
       "</table>\n",
       "</div>"
      ],
      "text/plain": [
       "                                 name  amount        category\n",
       "date                                                         \n",
       "2020-07-29            United Airlines     500          Travel\n",
       "2020-07-27     Uber 072515 SF**POOL**    6.33          Travel\n",
       "2020-07-24                 Tectra Inc     500  Food and Drink\n",
       "2020-07-23  AUTOMATIC PAYMENT - THANK  2078.5         Payment\n",
       "2020-07-23                        KFC     500  Food and Drink"
      ]
     },
     "execution_count": 17,
     "metadata": {},
     "output_type": "execute_result"
    }
   ],
   "source": [
    "# Set the date column as index\n",
    "df = df.set_index(\"date\")\n",
    "\n",
    "# Display sample data\n",
    "df.head()"
   ]
  },
  {
   "cell_type": "markdown",
   "metadata": {},
   "source": [
    "---"
   ]
  },
  {
   "cell_type": "markdown",
   "metadata": {},
   "source": [
    "# Income Analysis with Plaid\n",
    "\n",
    "In this section, you will use the Plaid Sandbox to complete the following:\n",
    "\n",
    "1. Determine the previous year's gross income and print the results\n",
    "\n",
    "2. Determine the current monthly income and print the results\n",
    "\n",
    "3. Determine the projected yearly income and print the results"
   ]
  },
  {
   "cell_type": "code",
   "execution_count": 19,
   "metadata": {},
   "outputs": [
    {
     "data": {
      "text/plain": [
       "{'income_streams': [{'confidence': 0.99,\n",
       "   'days': 690,\n",
       "   'monthly_income': 500,\n",
       "   'name': 'UNITED AIRLINES'}],\n",
       " 'last_year_income': 6000,\n",
       " 'last_year_income_before_tax': 7285,\n",
       " 'max_number_of_overlapping_income_streams': 1,\n",
       " 'number_of_income_streams': 1,\n",
       " 'projected_yearly_income': 6085,\n",
       " 'projected_yearly_income_before_tax': 7389}"
      ]
     },
     "execution_count": 19,
     "metadata": {},
     "output_type": "execute_result"
    }
   ],
   "source": [
    "# Fetch de income data\n",
    "\n",
    "response = client.Income.get(access_token)\n",
    "income = response['income']\n",
    "\n",
    "# Print the income data\n",
    "income\n"
   ]
  },
  {
   "cell_type": "code",
   "execution_count": 20,
   "metadata": {},
   "outputs": [
    {
     "name": "stdout",
     "output_type": "stream",
     "text": [
      "7285\n"
     ]
    }
   ],
   "source": [
    "# Determine the previous year's gross income and print the results\n",
    "print(income['last_year_income_before_tax'])\n"
   ]
  },
  {
   "cell_type": "code",
   "execution_count": 23,
   "metadata": {},
   "outputs": [
    {
     "ename": "KeyError",
     "evalue": "'monthly_income'",
     "output_type": "error",
     "traceback": [
      "\u001b[1;31m---------------------------------------------------------------------------\u001b[0m",
      "\u001b[1;31mKeyError\u001b[0m                                  Traceback (most recent call last)",
      "\u001b[1;32m<ipython-input-23-1623a95d69e3>\u001b[0m in \u001b[0;36m<module>\u001b[1;34m\u001b[0m\n\u001b[0;32m      1\u001b[0m \u001b[1;31m# Determine the current monthly income and print the result\u001b[0m\u001b[1;33m\u001b[0m\u001b[1;33m\u001b[0m\u001b[1;33m\u001b[0m\u001b[0m\n\u001b[1;32m----> 2\u001b[1;33m \u001b[0mprint\u001b[0m\u001b[1;33m(\u001b[0m\u001b[0mincome\u001b[0m\u001b[1;33m[\u001b[0m\u001b[1;34m'monthly_income'\u001b[0m\u001b[1;33m]\u001b[0m\u001b[1;33m)\u001b[0m\u001b[1;33m\u001b[0m\u001b[1;33m\u001b[0m\u001b[0m\n\u001b[0m",
      "\u001b[1;31mKeyError\u001b[0m: 'monthly_income'"
     ]
    }
   ],
   "source": [
    "# Determine the current monthly income and print the result\n",
    "print(income['monthly_income'])"
   ]
  },
  {
   "cell_type": "code",
   "execution_count": 24,
   "metadata": {},
   "outputs": [
    {
     "name": "stdout",
     "output_type": "stream",
     "text": [
      "7389\n"
     ]
    }
   ],
   "source": [
    "# Determine the projected yearly income and print the results\n",
    "print(income['projected_yearly_income_before_tax'])"
   ]
  },
  {
   "cell_type": "markdown",
   "metadata": {},
   "source": [
    "---"
   ]
  },
  {
   "cell_type": "markdown",
   "metadata": {},
   "source": [
    "# Budget Analysis\n",
    "In this section, you will use the transactions DataFrame to analyze the customer's budget\n",
    "\n",
    "1. Calculate the total spending per category and print the results (Hint: groupby or count transactions per category)\n",
    "\n",
    "2. Generate a bar chart with the number of transactions for each category\n",
    "\n",
    "3. Calulate the expenses per month\n",
    "\n",
    "4. Plot the total expenses per month"
   ]
  },
  {
   "cell_type": "markdown",
   "metadata": {},
   "source": [
    "### Calculate the expenses per category"
   ]
  },
  {
   "cell_type": "code",
   "execution_count": 25,
   "metadata": {},
   "outputs": [
    {
     "data": {
      "text/plain": [
       "category\n",
       "Food and Drink    1105.73\n",
       "Payment           2103.50\n",
       "Recreation          78.50\n",
       "Shops              500.00\n",
       "Transfer          6845.78\n",
       "Travel              11.73\n",
       "Name: amount, dtype: float64"
      ]
     },
     "execution_count": 25,
     "metadata": {},
     "output_type": "execute_result"
    }
   ],
   "source": [
    "# Compute the total expenses per category\n",
    "category_total = df.groupby('category').sum()['amount']\n",
    "\n",
    "# Display the expenses per category\n",
    "category_total"
   ]
  },
  {
   "cell_type": "code",
   "execution_count": 26,
   "metadata": {},
   "outputs": [
    {
     "data": {
      "text/plain": [
       "<matplotlib.axes._subplots.AxesSubplot at 0x2bc15c7ba08>"
      ]
     },
     "execution_count": 26,
     "metadata": {},
     "output_type": "execute_result"
    },
    {
     "data": {
      "image/png": "[encoded data removed]",
      "text/plain": [
       "<Figure size 432x288 with 1 Axes>"
      ]
     },
     "metadata": {},
     "output_type": "display_data"
    }
   ],
   "source": [
    "# Create a spending categories pie chart.\n",
    "category_total.plot.pie(title=\"Total Spend by Category\")"
   ]
  },
  {
   "cell_type": "markdown",
   "metadata": {},
   "source": [
    "### Calculate the expenses per month"
   ]
  },
  {
   "cell_type": "code",
   "execution_count": null,
   "metadata": {},
   "outputs": [],
   "source": [
    "# Create a DataFrame with the total expenses\n",
    "month_total = df.reset_index()\n",
    "month_total[\"month\"] = pd.DatetimeIndex(month_total['date']).month\n",
    "month_total = month_total.groupby('month').sum()\n",
    "\n",
    "# Display sample data\n",
    "month_total"
   ]
  },
  {
   "cell_type": "code",
   "execution_count": null,
   "metadata": {},
   "outputs": [],
   "source": [
    "# Create a spending per month bar chart\n",
    "month_total.plot.bar()"
   ]
  }
 ],
 "metadata": {
  "kernelspec": {
   "display_name": "Python 3",
   "language": "python",
   "name": "python3"
  },
  "language_info": {
   "codemirror_mode": {
    "name": "ipython",
    "version": 3
   },
   "file_extension": ".py",
   "mimetype": "text/x-python",
   "name": "python",
   "nbconvert_exporter": "python",
   "pygments_lexer": "ipython3",
   "version": "3.7.7"
  }
 },
 "nbformat": 4,
 "nbformat_minor": 4
}

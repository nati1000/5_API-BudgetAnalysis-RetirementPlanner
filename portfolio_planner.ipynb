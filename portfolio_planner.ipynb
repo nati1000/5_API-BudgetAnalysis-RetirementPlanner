{
 "cells": [
  {
   "cell_type": "markdown",
   "metadata": {},
   "source": [
    "# Retirement Planner\n",
    "\n",
    "---\n",
    "\n",
    "## Environment Setup"
   ]
  },
  {
   "cell_type": "code",
   "execution_count": 1,
   "metadata": {},
   "outputs": [],
   "source": [
    "# Import libraries and dependencies\n",
    "import numpy as np\n",
    "import pandas as pd\n",
    "import os\n",
    "from datetime import datetime, timedelta\n",
    "import matplotlib.pyplot as plt\n",
    "import alpaca_trade_api as tradeapi\n",
    "%matplotlib inline"
   ]
  },
  {
   "cell_type": "code",
   "execution_count": 2,
   "metadata": {},
   "outputs": [],
   "source": [
    "# Set the random seed for resutls reproducibility (for testing purposes only)\n",
    "np.random.seed(42)"
   ]
  },
  {
   "cell_type": "markdown",
   "metadata": {},
   "source": [
    "---\n",
    "\n",
    "## Portfolio Planner\n",
    "\n",
    "In this activity, you will use the Alpaca API to grab historical data for a `60/40` portfolio using `SPY` to represent the stock portion and `AGG` to represent the bonds."
   ]
  },
  {
   "cell_type": "code",
   "execution_count": 3,
   "metadata": {},
   "outputs": [],
   "source": [
    "# Load .env enviroment variables\n",
    "from dotenv import load_dotenv\n",
    "load_dotenv()\n",
    "\n",
    "\n",
    "# Set Alpaca API key and secret\n",
    "alpaca_api_key = os.getenv(\"ALPACA_API_KEY\")\n",
    "alpaca_secret_key = os.getenv(\"ALPACA_SECRET_KEY\")\n",
    "\n",
    "# Create the Alpaca API object\n",
    "api = tradeapi.REST(\n",
    "    alpaca_api_key,\n",
    "    alpaca_secret_key,\n",
    "    api_version=\"v2\")"
   ]
  },
  {
   "cell_type": "markdown",
   "metadata": {},
   "source": [
    "# Data Collection\n",
    "\n",
    "In this step, you will need to use the Alpaca api to fetch closing prices for the `SPY` and `AGG` tickers. Save the results as a pandas DataFrame"
   ]
  },
  {
   "cell_type": "code",
   "execution_count": 4,
   "metadata": {},
   "outputs": [],
   "source": [
    "# Subset your tickers, then pull returns data:\n",
    "# Set the ticker\n",
    "ticker = [\"SPY\", \"AGG\"]\n",
    "\n",
    "# Set timeframe to '1D'\n",
    "timeframe = \"1D\"\n",
    "\n",
    "# Set start and end datetimes of 1 year, between now and 365 days ago.\n",
    "start_date = pd.Timestamp('2019-01-01', tz='America/New_York').isoformat()\n",
    "end_date = pd.Timestamp('2019-12-31', tz='America/New_York').isoformat()\n",
    "\n",
    "# Get 1 year's worth of historical data for SPY and AGG\n",
    "df = api.get_barset(\n",
    "    ticker,\n",
    "    timeframe,\n",
    "    limit=None,\n",
    "    start=start_date,\n",
    "    end=end_date,\n",
    "    after=None,\n",
    "    until=None,\n",
    ").df\n",
    "\n",
    "# Drop unnecessary columns\n",
    "df = df.drop(\n",
    "    columns=['open', 'high', 'low', 'volume'],\n",
    "    level=1\n",
    ")"
   ]
  },
  {
   "cell_type": "code",
   "execution_count": 5,
   "metadata": {},
   "outputs": [
    {
     "data": {
      "text/html": [
       "<div>\n",
       "<style scoped>\n",
       "    .dataframe tbody tr th:only-of-type {\n",
       "        vertical-align: middle;\n",
       "    }\n",
       "\n",
       "    .dataframe tbody tr th {\n",
       "        vertical-align: top;\n",
       "    }\n",
       "\n",
       "    .dataframe thead tr th {\n",
       "        text-align: left;\n",
       "    }\n",
       "</style>\n",
       "<table border=\"1\" class=\"dataframe\">\n",
       "  <thead>\n",
       "    <tr>\n",
       "      <th></th>\n",
       "      <th>AGG</th>\n",
       "      <th>SPY</th>\n",
       "    </tr>\n",
       "    <tr>\n",
       "      <th></th>\n",
       "      <th>close</th>\n",
       "      <th>close</th>\n",
       "    </tr>\n",
       "  </thead>\n",
       "  <tbody>\n",
       "    <tr>\n",
       "      <th>2019-01-02 00:00:00-05:00</th>\n",
       "      <td>106.585</td>\n",
       "      <td>249.89</td>\n",
       "    </tr>\n",
       "    <tr>\n",
       "      <th>2019-01-03 00:00:00-05:00</th>\n",
       "      <td>107.020</td>\n",
       "      <td>244.46</td>\n",
       "    </tr>\n",
       "    <tr>\n",
       "      <th>2019-01-04 00:00:00-05:00</th>\n",
       "      <td>106.695</td>\n",
       "      <td>252.41</td>\n",
       "    </tr>\n",
       "    <tr>\n",
       "      <th>2019-01-07 00:00:00-05:00</th>\n",
       "      <td>106.470</td>\n",
       "      <td>254.40</td>\n",
       "    </tr>\n",
       "    <tr>\n",
       "      <th>2019-01-08 00:00:00-05:00</th>\n",
       "      <td>106.420</td>\n",
       "      <td>256.65</td>\n",
       "    </tr>\n",
       "  </tbody>\n",
       "</table>\n",
       "</div>"
      ],
      "text/plain": [
       "                               AGG     SPY\n",
       "                             close   close\n",
       "2019-01-02 00:00:00-05:00  106.585  249.89\n",
       "2019-01-03 00:00:00-05:00  107.020  244.46\n",
       "2019-01-04 00:00:00-05:00  106.695  252.41\n",
       "2019-01-07 00:00:00-05:00  106.470  254.40\n",
       "2019-01-08 00:00:00-05:00  106.420  256.65"
      ]
     },
     "execution_count": 5,
     "metadata": {},
     "output_type": "execute_result"
    }
   ],
   "source": [
    "# Display sample data\n",
    "df.head()"
   ]
  },
  {
   "cell_type": "markdown",
   "metadata": {},
   "source": [
    "---\n",
    "\n",
    "## Monte Carlo Simulation\n",
    "\n",
    "In this step, you will run Monte Carlo Simulations for your portfolio to model portfolio performance at different retirement ages. \n",
    "\n",
    "Complete the following steps:\n",
    "\n",
    "1. Calculate the daily returns for the SPY and AGG closing prices.\n",
    "\n",
    "2. Calculate volatility for both the SPY and AGG closing prices.\n",
    "\n",
    "3. Find the last day's closing price for both stocks and save those as variables\n",
    "\n",
    "4. Run a Monte Carlo Simulation of at least `100` iterations and generate at least `30` years of closing prices\n",
    "\n",
    "**Hint:** There are `252` trading days per year, so the number of records to generate for each Monte Carlo run will be `252 days * 30 years`."
   ]
  },
  {
   "cell_type": "code",
   "execution_count": 6,
   "metadata": {},
   "outputs": [
    {
     "data": {
      "text/html": [
       "<div>\n",
       "<style scoped>\n",
       "    .dataframe tbody tr th:only-of-type {\n",
       "        vertical-align: middle;\n",
       "    }\n",
       "\n",
       "    .dataframe tbody tr th {\n",
       "        vertical-align: top;\n",
       "    }\n",
       "\n",
       "    .dataframe thead tr th {\n",
       "        text-align: left;\n",
       "    }\n",
       "</style>\n",
       "<table border=\"1\" class=\"dataframe\">\n",
       "  <thead>\n",
       "    <tr>\n",
       "      <th></th>\n",
       "      <th>AGG</th>\n",
       "      <th>SPY</th>\n",
       "    </tr>\n",
       "    <tr>\n",
       "      <th></th>\n",
       "      <th>close</th>\n",
       "      <th>close</th>\n",
       "    </tr>\n",
       "  </thead>\n",
       "  <tbody>\n",
       "    <tr>\n",
       "      <th>2019-01-03 00:00:00-05:00</th>\n",
       "      <td>0.004081</td>\n",
       "      <td>-0.021730</td>\n",
       "    </tr>\n",
       "    <tr>\n",
       "      <th>2019-01-04 00:00:00-05:00</th>\n",
       "      <td>-0.003037</td>\n",
       "      <td>0.032521</td>\n",
       "    </tr>\n",
       "    <tr>\n",
       "      <th>2019-01-07 00:00:00-05:00</th>\n",
       "      <td>-0.002109</td>\n",
       "      <td>0.007884</td>\n",
       "    </tr>\n",
       "    <tr>\n",
       "      <th>2019-01-08 00:00:00-05:00</th>\n",
       "      <td>-0.000470</td>\n",
       "      <td>0.008844</td>\n",
       "    </tr>\n",
       "    <tr>\n",
       "      <th>2019-01-09 00:00:00-05:00</th>\n",
       "      <td>0.000564</td>\n",
       "      <td>0.004130</td>\n",
       "    </tr>\n",
       "  </tbody>\n",
       "</table>\n",
       "</div>"
      ],
      "text/plain": [
       "                                AGG       SPY\n",
       "                              close     close\n",
       "2019-01-03 00:00:00-05:00  0.004081 -0.021730\n",
       "2019-01-04 00:00:00-05:00 -0.003037  0.032521\n",
       "2019-01-07 00:00:00-05:00 -0.002109  0.007884\n",
       "2019-01-08 00:00:00-05:00 -0.000470  0.008844\n",
       "2019-01-09 00:00:00-05:00  0.000564  0.004130"
      ]
     },
     "execution_count": 6,
     "metadata": {},
     "output_type": "execute_result"
    }
   ],
   "source": [
    "# Calculate the daily roi for the stocks\n",
    "daily_returns = df.pct_change().dropna()\n",
    "\n",
    "# Display sample data\n",
    "daily_returns.head()"
   ]
  },
  {
   "cell_type": "code",
   "execution_count": 7,
   "metadata": {},
   "outputs": [
    {
     "data": {
      "text/html": [
       "<div>\n",
       "<style scoped>\n",
       "    .dataframe tbody tr th:only-of-type {\n",
       "        vertical-align: middle;\n",
       "    }\n",
       "\n",
       "    .dataframe tbody tr th {\n",
       "        vertical-align: top;\n",
       "    }\n",
       "\n",
       "    .dataframe thead tr th {\n",
       "        text-align: left;\n",
       "    }\n",
       "</style>\n",
       "<table border=\"1\" class=\"dataframe\">\n",
       "  <thead>\n",
       "    <tr>\n",
       "      <th></th>\n",
       "      <th>AGG</th>\n",
       "      <th>SPY</th>\n",
       "    </tr>\n",
       "    <tr>\n",
       "      <th></th>\n",
       "      <th>close</th>\n",
       "      <th>close</th>\n",
       "    </tr>\n",
       "  </thead>\n",
       "  <tbody>\n",
       "    <tr>\n",
       "      <th>2019-01-03</th>\n",
       "      <td>0.004081</td>\n",
       "      <td>-0.021730</td>\n",
       "    </tr>\n",
       "    <tr>\n",
       "      <th>2019-01-04</th>\n",
       "      <td>-0.003037</td>\n",
       "      <td>0.032521</td>\n",
       "    </tr>\n",
       "    <tr>\n",
       "      <th>2019-01-07</th>\n",
       "      <td>-0.002109</td>\n",
       "      <td>0.007884</td>\n",
       "    </tr>\n",
       "    <tr>\n",
       "      <th>2019-01-08</th>\n",
       "      <td>-0.000470</td>\n",
       "      <td>0.008844</td>\n",
       "    </tr>\n",
       "    <tr>\n",
       "      <th>2019-01-09</th>\n",
       "      <td>0.000564</td>\n",
       "      <td>0.004130</td>\n",
       "    </tr>\n",
       "    <tr>\n",
       "      <th>...</th>\n",
       "      <td>...</td>\n",
       "      <td>...</td>\n",
       "    </tr>\n",
       "    <tr>\n",
       "      <th>2019-12-24</th>\n",
       "      <td>0.001292</td>\n",
       "      <td>0.000125</td>\n",
       "    </tr>\n",
       "    <tr>\n",
       "      <th>2019-12-26</th>\n",
       "      <td>0.000934</td>\n",
       "      <td>0.005136</td>\n",
       "    </tr>\n",
       "    <tr>\n",
       "      <th>2019-12-27</th>\n",
       "      <td>0.001245</td>\n",
       "      <td>-0.000155</td>\n",
       "    </tr>\n",
       "    <tr>\n",
       "      <th>2019-12-30</th>\n",
       "      <td>0.000089</td>\n",
       "      <td>-0.005451</td>\n",
       "    </tr>\n",
       "    <tr>\n",
       "      <th>2019-12-31</th>\n",
       "      <td>-0.002308</td>\n",
       "      <td>0.002554</td>\n",
       "    </tr>\n",
       "  </tbody>\n",
       "</table>\n",
       "<p>251 rows × 2 columns</p>\n",
       "</div>"
      ],
      "text/plain": [
       "                 AGG       SPY\n",
       "               close     close\n",
       "2019-01-03  0.004081 -0.021730\n",
       "2019-01-04 -0.003037  0.032521\n",
       "2019-01-07 -0.002109  0.007884\n",
       "2019-01-08 -0.000470  0.008844\n",
       "2019-01-09  0.000564  0.004130\n",
       "...              ...       ...\n",
       "2019-12-24  0.001292  0.000125\n",
       "2019-12-26  0.000934  0.005136\n",
       "2019-12-27  0.001245 -0.000155\n",
       "2019-12-30  0.000089 -0.005451\n",
       "2019-12-31 -0.002308  0.002554\n",
       "\n",
       "[251 rows x 2 columns]"
      ]
     },
     "execution_count": 7,
     "metadata": {},
     "output_type": "execute_result"
    }
   ],
   "source": [
    "daily_returns.index = daily_returns.index.date\n",
    "daily_returns"
   ]
  },
  {
   "cell_type": "code",
   "execution_count": 8,
   "metadata": {},
   "outputs": [
    {
     "data": {
      "text/plain": [
       "0.007820053413439366"
      ]
     },
     "execution_count": 8,
     "metadata": {},
     "output_type": "execute_result"
    }
   ],
   "source": [
    "# Compute daily volatility\n",
    "std_dev_daily_return_agg = daily_returns.std()['AGG']['close']\n",
    "std_dev_daily_return_spy = daily_returns.std()['SPY']['close']\n",
    "std_dev_daily_return_agg\n",
    "std_dev_daily_return_spy "
   ]
  },
  {
   "cell_type": "code",
   "execution_count": 9,
   "metadata": {},
   "outputs": [
    {
     "data": {
      "text/plain": [
       "321.92"
      ]
     },
     "execution_count": 9,
     "metadata": {},
     "output_type": "execute_result"
    }
   ],
   "source": [
    "# Save the last day's closing price\n",
    "agg_last_price = df['AGG']['close'][-1]\n",
    "spy_last_price = df['SPY']['close'][-1]\n",
    "agg_last_price\n",
    "spy_last_price "
   ]
  },
  {
   "cell_type": "code",
   "execution_count": 10,
   "metadata": {},
   "outputs": [],
   "source": [
    "# Setup the Monte Carlo Parameters\n",
    "number_simulations = 100\n",
    "number_records = 252 * 30\n",
    "monte_carlo_df=pd.DataFrame()"
   ]
  },
  {
   "cell_type": "code",
   "execution_count": 11,
   "metadata": {},
   "outputs": [
    {
     "name": "stdout",
     "output_type": "stream",
     "text": [
      "simulation0\n",
      "simulation1\n",
      "simulation2\n",
      "simulation3\n",
      "simulation4\n",
      "simulation5\n",
      "simulation6\n",
      "simulation7\n",
      "simulation8\n",
      "simulation9\n",
      "simulation10\n",
      "simulation11\n",
      "simulation12\n",
      "simulation13\n",
      "simulation14\n",
      "simulation15\n",
      "simulation16\n",
      "simulation17\n",
      "simulation18\n",
      "simulation19\n",
      "simulation20\n",
      "simulation21\n",
      "simulation22\n",
      "simulation23\n",
      "simulation24\n",
      "simulation25\n",
      "simulation26\n",
      "simulation27\n",
      "simulation28\n",
      "simulation29\n",
      "simulation30\n",
      "simulation31\n",
      "simulation32\n",
      "simulation33\n",
      "simulation34\n",
      "simulation35\n",
      "simulation36\n",
      "simulation37\n",
      "simulation38\n",
      "simulation39\n",
      "simulation40\n",
      "simulation41\n",
      "simulation42\n",
      "simulation43\n",
      "simulation44\n",
      "simulation45\n",
      "simulation46\n",
      "simulation47\n",
      "simulation48\n",
      "simulation49\n",
      "simulation50\n",
      "simulation51\n",
      "simulation52\n",
      "simulation53\n",
      "simulation54\n",
      "simulation55\n",
      "simulation56\n",
      "simulation57\n",
      "simulation58\n",
      "simulation59\n",
      "simulation60\n",
      "simulation61\n",
      "simulation62\n",
      "simulation63\n",
      "simulation64\n",
      "simulation65\n",
      "simulation66\n",
      "simulation67\n",
      "simulation68\n",
      "simulation69\n",
      "simulation70\n",
      "simulation71\n",
      "simulation72\n",
      "simulation73\n",
      "simulation74\n",
      "simulation75\n",
      "simulation76\n",
      "simulation77\n",
      "simulation78\n",
      "simulation79\n",
      "simulation80\n",
      "simulation81\n",
      "simulation82\n",
      "simulation83\n",
      "simulation84\n",
      "simulation85\n",
      "simulation86\n",
      "simulation87\n",
      "simulation88\n",
      "simulation89\n",
      "simulation90\n",
      "simulation91\n",
      "simulation92\n",
      "simulation93\n",
      "simulation94\n",
      "simulation95\n",
      "simulation96\n",
      "simulation97\n",
      "simulation98\n",
      "simulation99\n"
     ]
    }
   ],
   "source": [
    "# Run the Monte Carlo Simulation\n",
    "\n",
    "\n",
    "# Run the simulation of projecting stock prices for the next trading year, `500` times\n",
    "for n in range(number_simulations):\n",
    "    print(f\"simulation{n}\")\n",
    "    # Initialize the simulated prices list with the last closing price of AGG and SPY\n",
    "    simulated_agg_price = [agg_last_price]\n",
    "    simulated_spy_price = [spy_last_price]\n",
    "\n",
    "    \n",
    "    # Simulate the returns for 252 days\n",
    "    for i in range(number_records):\n",
    "        \n",
    "        # Calculate the simulated price using the last price within the list\n",
    "        simulated_agg_price.append(simulated_agg_price[-1] * (1 + np.random.normal(daily_returns.mean()['AGG']['close'],\n",
    "                                                                                   std_dev_daily_return_agg)))\n",
    "        simulated_spy_price.append(simulated_spy_price[-1] * (1 + np.random.normal(daily_returns.mean()['SPY']['close'], \n",
    "                                                                                   std_dev_daily_return_spy)))\n",
    "        \n",
    "    price_df=pd.DataFrame({\n",
    "        \"AGG prices\":simulated_agg_price,\n",
    "        \"SPY prices\":simulated_spy_price\n",
    "    })\n",
    "    \n",
    "    simulated_daily_returns = price_df.pct_change().dropna()\n",
    "    simulated_daily_returns = .6 * simulated_daily_returns[\"SPY prices\"] + .4 * simulated_daily_returns[\"AGG prices\"]\n",
    "    monte_carlo_df[n] = (1 + simulated_daily_returns.fillna(0)).cumprod()\n"
   ]
  },
  {
   "cell_type": "code",
   "execution_count": 12,
   "metadata": {},
   "outputs": [
    {
     "data": {
      "text/html": [
       "<div>\n",
       "<style scoped>\n",
       "    .dataframe tbody tr th:only-of-type {\n",
       "        vertical-align: middle;\n",
       "    }\n",
       "\n",
       "    .dataframe tbody tr th {\n",
       "        vertical-align: top;\n",
       "    }\n",
       "\n",
       "    .dataframe thead th {\n",
       "        text-align: right;\n",
       "    }\n",
       "</style>\n",
       "<table border=\"1\" class=\"dataframe\">\n",
       "  <thead>\n",
       "    <tr style=\"text-align: right;\">\n",
       "      <th></th>\n",
       "      <th>0</th>\n",
       "      <th>1</th>\n",
       "      <th>2</th>\n",
       "      <th>3</th>\n",
       "      <th>4</th>\n",
       "      <th>5</th>\n",
       "      <th>6</th>\n",
       "      <th>7</th>\n",
       "      <th>8</th>\n",
       "      <th>9</th>\n",
       "      <th>...</th>\n",
       "      <th>90</th>\n",
       "      <th>91</th>\n",
       "      <th>92</th>\n",
       "      <th>93</th>\n",
       "      <th>94</th>\n",
       "      <th>95</th>\n",
       "      <th>96</th>\n",
       "      <th>97</th>\n",
       "      <th>98</th>\n",
       "      <th>99</th>\n",
       "    </tr>\n",
       "  </thead>\n",
       "  <tbody>\n",
       "    <tr>\n",
       "      <th>1</th>\n",
       "      <td>1.000476</td>\n",
       "      <td>1.000536</td>\n",
       "      <td>0.998808</td>\n",
       "      <td>1.005394</td>\n",
       "      <td>1.011797</td>\n",
       "      <td>0.994452</td>\n",
       "      <td>0.997251</td>\n",
       "      <td>1.013277</td>\n",
       "      <td>1.000869</td>\n",
       "      <td>0.995376</td>\n",
       "      <td>...</td>\n",
       "      <td>1.011448</td>\n",
       "      <td>0.998782</td>\n",
       "      <td>0.996388</td>\n",
       "      <td>1.004907</td>\n",
       "      <td>1.002212</td>\n",
       "      <td>0.998372</td>\n",
       "      <td>1.005269</td>\n",
       "      <td>1.008571</td>\n",
       "      <td>0.999745</td>\n",
       "      <td>1.004380</td>\n",
       "    </tr>\n",
       "    <tr>\n",
       "      <th>2</th>\n",
       "      <td>1.008876</td>\n",
       "      <td>1.004699</td>\n",
       "      <td>1.003590</td>\n",
       "      <td>0.996711</td>\n",
       "      <td>1.009571</td>\n",
       "      <td>0.994247</td>\n",
       "      <td>0.994214</td>\n",
       "      <td>1.007199</td>\n",
       "      <td>1.000225</td>\n",
       "      <td>0.993036</td>\n",
       "      <td>...</td>\n",
       "      <td>1.013402</td>\n",
       "      <td>0.999055</td>\n",
       "      <td>0.996043</td>\n",
       "      <td>1.000145</td>\n",
       "      <td>0.995961</td>\n",
       "      <td>1.003225</td>\n",
       "      <td>1.002277</td>\n",
       "      <td>1.005187</td>\n",
       "      <td>0.994018</td>\n",
       "      <td>1.008494</td>\n",
       "    </tr>\n",
       "    <tr>\n",
       "      <th>3</th>\n",
       "      <td>1.008286</td>\n",
       "      <td>1.004228</td>\n",
       "      <td>1.003770</td>\n",
       "      <td>0.998232</td>\n",
       "      <td>1.007751</td>\n",
       "      <td>0.987669</td>\n",
       "      <td>0.998229</td>\n",
       "      <td>1.001361</td>\n",
       "      <td>1.000230</td>\n",
       "      <td>1.001279</td>\n",
       "      <td>...</td>\n",
       "      <td>1.020818</td>\n",
       "      <td>1.000116</td>\n",
       "      <td>0.993744</td>\n",
       "      <td>1.002906</td>\n",
       "      <td>0.993040</td>\n",
       "      <td>1.001153</td>\n",
       "      <td>0.995290</td>\n",
       "      <td>1.004921</td>\n",
       "      <td>0.996955</td>\n",
       "      <td>1.008025</td>\n",
       "    </tr>\n",
       "    <tr>\n",
       "      <th>4</th>\n",
       "      <td>1.013963</td>\n",
       "      <td>1.006575</td>\n",
       "      <td>1.008493</td>\n",
       "      <td>1.002636</td>\n",
       "      <td>1.013664</td>\n",
       "      <td>0.990972</td>\n",
       "      <td>1.003241</td>\n",
       "      <td>0.995491</td>\n",
       "      <td>1.002048</td>\n",
       "      <td>1.006036</td>\n",
       "      <td>...</td>\n",
       "      <td>1.024352</td>\n",
       "      <td>0.997842</td>\n",
       "      <td>0.995994</td>\n",
       "      <td>1.002343</td>\n",
       "      <td>0.996733</td>\n",
       "      <td>1.002187</td>\n",
       "      <td>0.996472</td>\n",
       "      <td>1.001291</td>\n",
       "      <td>0.999373</td>\n",
       "      <td>1.006253</td>\n",
       "    </tr>\n",
       "    <tr>\n",
       "      <th>5</th>\n",
       "      <td>1.016865</td>\n",
       "      <td>0.999694</td>\n",
       "      <td>1.001493</td>\n",
       "      <td>1.016174</td>\n",
       "      <td>1.011404</td>\n",
       "      <td>0.989529</td>\n",
       "      <td>1.007597</td>\n",
       "      <td>0.997137</td>\n",
       "      <td>1.010585</td>\n",
       "      <td>1.001112</td>\n",
       "      <td>...</td>\n",
       "      <td>1.022603</td>\n",
       "      <td>1.005889</td>\n",
       "      <td>0.994097</td>\n",
       "      <td>1.010824</td>\n",
       "      <td>1.006277</td>\n",
       "      <td>1.005564</td>\n",
       "      <td>0.990288</td>\n",
       "      <td>1.007882</td>\n",
       "      <td>1.005581</td>\n",
       "      <td>1.004593</td>\n",
       "    </tr>\n",
       "  </tbody>\n",
       "</table>\n",
       "<p>5 rows × 100 columns</p>\n",
       "</div>"
      ],
      "text/plain": [
       "         0         1         2         3         4         5         6   \\\n",
       "1  1.000476  1.000536  0.998808  1.005394  1.011797  0.994452  0.997251   \n",
       "2  1.008876  1.004699  1.003590  0.996711  1.009571  0.994247  0.994214   \n",
       "3  1.008286  1.004228  1.003770  0.998232  1.007751  0.987669  0.998229   \n",
       "4  1.013963  1.006575  1.008493  1.002636  1.013664  0.990972  1.003241   \n",
       "5  1.016865  0.999694  1.001493  1.016174  1.011404  0.989529  1.007597   \n",
       "\n",
       "         7         8         9   ...        90        91        92        93  \\\n",
       "1  1.013277  1.000869  0.995376  ...  1.011448  0.998782  0.996388  1.004907   \n",
       "2  1.007199  1.000225  0.993036  ...  1.013402  0.999055  0.996043  1.000145   \n",
       "3  1.001361  1.000230  1.001279  ...  1.020818  1.000116  0.993744  1.002906   \n",
       "4  0.995491  1.002048  1.006036  ...  1.024352  0.997842  0.995994  1.002343   \n",
       "5  0.997137  1.010585  1.001112  ...  1.022603  1.005889  0.994097  1.010824   \n",
       "\n",
       "         94        95        96        97        98        99  \n",
       "1  1.002212  0.998372  1.005269  1.008571  0.999745  1.004380  \n",
       "2  0.995961  1.003225  1.002277  1.005187  0.994018  1.008494  \n",
       "3  0.993040  1.001153  0.995290  1.004921  0.996955  1.008025  \n",
       "4  0.996733  1.002187  0.996472  1.001291  0.999373  1.006253  \n",
       "5  1.006277  1.005564  0.990288  1.007882  1.005581  1.004593  \n",
       "\n",
       "[5 rows x 100 columns]"
      ]
     },
     "execution_count": 12,
     "metadata": {},
     "output_type": "execute_result"
    }
   ],
   "source": [
    "# Print head of DataFrame\n",
    "monte_carlo_df.head()"
   ]
  },
  {
   "cell_type": "code",
   "execution_count": 13,
   "metadata": {},
   "outputs": [
    {
     "data": {
      "text/plain": [
       "<matplotlib.axes._subplots.AxesSubplot at 0x27273910548>"
      ]
     },
     "execution_count": 13,
     "metadata": {},
     "output_type": "execute_result"
    },
    {
     "data": {
      "image/png": "[encoded data removed]",
      "text/plain": [
       "<Figure size 432x288 with 1 Axes>"
      ]
     },
     "metadata": {
      "needs_background": "light"
     },
     "output_type": "display_data"
    }
   ],
   "source": [
    "# Visualize the Simulation\n",
    "monte_carlo_df.plot()"
   ]
  },
  {
   "cell_type": "code",
   "execution_count": 14,
   "metadata": {},
   "outputs": [
    {
     "data": {
      "text/plain": [
       "0    192.773859\n",
       "1    171.964137\n",
       "2    177.998514\n",
       "3    138.466715\n",
       "4    175.628015\n",
       "Name: 7560, dtype: float64"
      ]
     },
     "execution_count": 14,
     "metadata": {},
     "output_type": "execute_result"
    }
   ],
   "source": [
    "# Select the last row for the cumulative returns (cumulative returns at 20 years)\n",
    "simulated_ending_prices = monte_carlo_df.iloc[-1, :]\n",
    "simulated_ending_prices.head()"
   ]
  },
  {
   "cell_type": "code",
   "execution_count": 15,
   "metadata": {},
   "outputs": [
    {
     "data": {
      "text/plain": [
       "0.02     84.014473\n",
       "0.98    446.811067\n",
       "Name: 7560, dtype: float64"
      ]
     },
     "execution_count": 15,
     "metadata": {},
     "output_type": "execute_result"
    }
   ],
   "source": [
    "# Display the 90% confidence interval for the ending returns\n",
    "confidence_interval = simulated_ending_prices.quantile(q=[0.020, 0.980])\n",
    "confidence_interval\n",
    "\n"
   ]
  },
  {
   "cell_type": "code",
   "execution_count": 16,
   "metadata": {},
   "outputs": [
    {
     "data": {
      "text/plain": [
       "<matplotlib.axes._subplots.AxesSubplot at 0x27273acbf48>"
      ]
     },
     "execution_count": 16,
     "metadata": {},
     "output_type": "execute_result"
    },
    {
     "data": {
      "image/png": "[encoded data removed]",
      "text/plain": [
       "<Figure size 432x288 with 1 Axes>"
      ]
     },
     "metadata": {
      "needs_background": "light"
     },
     "output_type": "display_data"
    }
   ],
   "source": [
    "# Visualize the distribution of the ending returns\n",
    "simulated_ending_prices.plot.hist()"
   ]
  },
  {
   "cell_type": "markdown",
   "metadata": {},
   "source": [
    "---"
   ]
  },
  {
   "cell_type": "markdown",
   "metadata": {},
   "source": [
    "## Retirement Analysis\n",
    "\n",
    "In this section, you will use the monte carlo model to answer the following retirement planning questions:\n",
    "\n",
    "1. What are the expected cumulative returns at `30` years for the `10th`, `50th`, and `90th` percentiles?\n",
    "\n",
    "2. Given an initial investment of `$20,000`, what is the expected return in dollars at the `10th`, `50th`, and `90th` percentiles?\n",
    "\n",
    "3. Given the current projected annual income from the Plaid analysis, will a `4%` withdrawal rate meet or exceed that value at the `10th` percentile? Note: This is basically determining if retirement income is equivalent to current income.\n",
    "\n",
    "4. How would a `50%` increase in the initial investment amount affect the `4%` retirement withdrawal? In other words, what happens if the initial investment had been bigger?"
   ]
  },
  {
   "cell_type": "markdown",
   "metadata": {},
   "source": [
    "### What are the expected cumulative returns at 30 years for the 10th, 50th, and 90th percentiles?"
   ]
  },
  {
   "cell_type": "code",
   "execution_count": 17,
   "metadata": {},
   "outputs": [
    {
     "data": {
      "text/plain": [
       "0.1    102.823611\n",
       "0.5    177.378187\n",
       "0.9    321.750219\n",
       "Name: 7560, dtype: float64"
      ]
     },
     "execution_count": 17,
     "metadata": {},
     "output_type": "execute_result"
    }
   ],
   "source": [
    "# Compute cumulative returns\n",
    "\n",
    "simulated_ending_prices.quantile([.10,.5, .90])\n",
    "\n",
    "\n"
   ]
  },
  {
   "cell_type": "markdown",
   "metadata": {},
   "source": [
    "### Given an initial investment of `$20,000`, what is the expected portfolio return in dollars at the 10th, 50th, and 90th percentiles?"
   ]
  },
  {
   "cell_type": "code",
   "execution_count": 18,
   "metadata": {},
   "outputs": [
    {
     "data": {
      "text/plain": [
       "0.1    2.056472e+06\n",
       "0.5    3.547564e+06\n",
       "0.9    6.435004e+06\n",
       "Name: 7560, dtype: float64"
      ]
     },
     "execution_count": 18,
     "metadata": {},
     "output_type": "execute_result"
    }
   ],
   "source": [
    "# Set initial investment\n",
    "initial_investment = 20000\n",
    "\n",
    "# Compute expected portfolio return\n",
    "\n",
    "initial_investment * simulated_ending_prices.quantile([.10,.5,.90])\n"
   ]
  },
  {
   "cell_type": "markdown",
   "metadata": {},
   "source": [
    "### Given the current projected annual income from the Plaid analysis, will a 4% withdraw rate from the retirement portfolio meet or exceed that value at the 10th percentile?\n",
    "\n",
    "Note: This is effectively saying that 90% of the expected returns will be greater than the return at the 10th percentile, so this can help measure the uncertainty about having enough funds at retirement"
   ]
  },
  {
   "cell_type": "code",
   "execution_count": 19,
   "metadata": {},
   "outputs": [
    {
     "data": {
      "text/plain": [
       "False"
      ]
     },
     "execution_count": 19,
     "metadata": {},
     "output_type": "execute_result"
    }
   ],
   "source": [
    "# Set Plaid's projected income\n",
    "plaid_projected_income = 7389\n",
    "\n",
    "# Calculate the 4% withdrawal for the ending return as retirement income\n",
    "retirement_income = initial_investment * simulated_ending_prices.quantile(.10) * .04\n",
    "\n",
    "\n",
    "# Determine if the retirement income meets or exceeds the current projected income\n",
    "plaid_projected_income > retirement_income"
   ]
  },
  {
   "cell_type": "markdown",
   "metadata": {},
   "source": [
    "### How would a 50% increase in the initial investment amount affect the 4% retirement withdrawal?"
   ]
  },
  {
   "cell_type": "code",
   "execution_count": 21,
   "metadata": {},
   "outputs": [
    {
     "data": {
      "text/plain": [
       "False"
      ]
     },
     "execution_count": 21,
     "metadata": {},
     "output_type": "execute_result"
    }
   ],
   "source": [
    "# Re-calculate the retirement income with a 50% increase in the initial investment amount\n",
    "retirement_incomev2 = initial_investment * simulated_ending_prices.quantile(.5) * .04\n",
    "\n",
    "plaid_projected_income > retirement_income"
   ]
  },
  {
   "cell_type": "markdown",
   "metadata": {},
   "source": [
    "### Optional Challenge\n",
    "\n",
    "Use the Monte Carlo data and calculate the cumulative returns at the `5%`, `50%`, and `95%` quartiles and plot this data as a line chart to see how the cumulative returns change over the life of the investment.\n",
    "\n",
    "In this section, you need to calculate and plot the cumulative returns for the median and `90%` confidence intervals. This plot shows the expected cumulative returns for any given day between the first day and the last day of investment. "
   ]
  },
  {
   "cell_type": "code",
   "execution_count": null,
   "metadata": {},
   "outputs": [],
   "source": [
    "# Compute projected returns\n",
    "\n",
    "# Display sample data\n"
   ]
  },
  {
   "cell_type": "code",
   "execution_count": null,
   "metadata": {},
   "outputs": [],
   "source": [
    "# Plot the cumulative returns over time\n"
   ]
  },
  {
   "cell_type": "code",
   "execution_count": null,
   "metadata": {},
   "outputs": [],
   "source": [
    "# Compute portfolio performance over time\n",
    "\n",
    "# Plot projected performance over time\n"
   ]
  }
 ],
 "metadata": {
  "kernelspec": {
   "display_name": "Python 3",
   "language": "python",
   "name": "python3"
  },
  "language_info": {
   "codemirror_mode": {
    "name": "ipython",
    "version": 3
   },
   "file_extension": ".py",
   "mimetype": "text/x-python",
   "name": "python",
   "nbconvert_exporter": "python",
   "pygments_lexer": "ipython3",
   "version": "3.7.7"
  }
 },
 "nbformat": 4,
 "nbformat_minor": 4
}
